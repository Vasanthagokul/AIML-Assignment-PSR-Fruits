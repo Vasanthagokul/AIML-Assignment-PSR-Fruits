{
 "cells": [
  {
   "cell_type": "markdown",
   "metadata": {},
   "source": [
    "# Importing keras libraries and packages"
   ]
  },
  {
   "cell_type": "code",
   "execution_count": 1,
   "metadata": {},
   "outputs": [],
   "source": [
    "from keras.models import Sequential\n",
    "from keras.layers import Convolution2D\n",
    "from keras.layers import Flatten\n",
    "from keras.layers import Dense\n",
    "from keras.layers import MaxPooling2D"
   ]
  },
  {
   "cell_type": "markdown",
   "metadata": {},
   "source": [
    "# Building the nn model"
   ]
  },
  {
   "cell_type": "code",
   "execution_count": 27,
   "metadata": {},
   "outputs": [
    {
     "name": "stdout",
     "output_type": "stream",
     "text": [
      "Model: \"sequential_7\"\n",
      "_________________________________________________________________\n",
      "Layer (type)                 Output Shape              Param #   \n",
      "=================================================================\n",
      "conv2d_14 (Conv2D)           (None, 62, 62, 32)        896       \n",
      "_________________________________________________________________\n",
      "max_pooling2d_14 (MaxPooling (None, 31, 31, 32)        0         \n",
      "_________________________________________________________________\n",
      "conv2d_15 (Conv2D)           (None, 29, 29, 32)        9248      \n",
      "_________________________________________________________________\n",
      "max_pooling2d_15 (MaxPooling (None, 14, 14, 32)        0         \n",
      "_________________________________________________________________\n",
      "flatten_7 (Flatten)          (None, 6272)              0         \n",
      "_________________________________________________________________\n",
      "dense_42 (Dense)             (None, 32)                200736    \n",
      "_________________________________________________________________\n",
      "dense_43 (Dense)             (None, 64)                2112      \n",
      "_________________________________________________________________\n",
      "dense_44 (Dense)             (None, 128)               8320      \n",
      "_________________________________________________________________\n",
      "dense_45 (Dense)             (None, 256)               33024     \n",
      "_________________________________________________________________\n",
      "dense_46 (Dense)             (None, 256)               65792     \n",
      "_________________________________________________________________\n",
      "dense_47 (Dense)             (None, 6)                 1542      \n",
      "=================================================================\n",
      "Total params: 321,670\n",
      "Trainable params: 321,670\n",
      "Non-trainable params: 0\n",
      "_________________________________________________________________\n"
     ]
    }
   ],
   "source": [
    "#step1 Initializing CNN\n",
    "classifier = Sequential()\n",
    "\n",
    "# step2 adding 1st Convolution layer and Pooling layer\n",
    "classifier.add(Convolution2D(32,(3,3),input_shape = (64,64,3), activation = 'relu'))\n",
    "\n",
    "classifier.add(MaxPooling2D(pool_size = (2, 2)))\n",
    "\n",
    "# step3 adding 2nd convolution layer and polling layer\n",
    "classifier.add(Convolution2D(32,(3,3), activation = 'relu'))\n",
    "\n",
    "classifier.add(MaxPooling2D(pool_size = (2, 2)))\n",
    "\n",
    "\n",
    "#step4 Flattening the layers\n",
    "classifier.add(Flatten())\n",
    "\n",
    "#step5 Full_Connection\n",
    "\n",
    "classifier.add(Dense(units=32,activation = 'relu'))\n",
    "\n",
    "classifier.add(Dense(units=64,activation = 'relu'))\n",
    "\n",
    "classifier.add(Dense(units=128,activation = 'relu'))\n",
    "\n",
    "classifier.add(Dense(units=256,activation = 'relu'))\n",
    "\n",
    "classifier.add(Dense(units=256,activation = 'relu'))\n",
    "\n",
    "classifier.add(Dense(units=6,activation = 'softmax'))\n",
    "\n",
    "classifier.summary()"
   ]
  },
  {
   "cell_type": "markdown",
   "metadata": {},
   "source": [
    "# step6 Compiling CNN"
   ]
  },
  {
   "cell_type": "code",
   "execution_count": 28,
   "metadata": {},
   "outputs": [],
   "source": [
    "classifier.compile(optimizer = 'adam', loss = 'categorical_crossentropy', metrics = ['accuracy'])"
   ]
  },
  {
   "cell_type": "markdown",
   "metadata": {},
   "source": [
    "# step7 Fitting CNN to images"
   ]
  },
  {
   "cell_type": "code",
   "execution_count": 29,
   "metadata": {},
   "outputs": [
    {
     "name": "stdout",
     "output_type": "stream",
     "text": [
      "\n",
      "Training the data...\n",
      "\n",
      "Found 1212 images belonging to 6 classes.\n",
      "Found 300 images belonging to 6 classes.\n"
     ]
    }
   ],
   "source": [
    "from keras.preprocessing.image import ImageDataGenerator\n",
    "\n",
    "train_datagen = ImageDataGenerator(rescale = 1./255, # To rescaling the image in range of [0,1]\n",
    "                                   shear_range = 0.2, # To randomly shear the images \n",
    "                                   zoom_range = 0.2, # To randomly zoom the images\n",
    "                                   horizontal_flip = True) #  for randomly flipping half of the images horizontally \n",
    "\n",
    "test_datagen = ImageDataGenerator(rescale = 1./255)\n",
    "print(\"\\nTraining the data...\\n\")\n",
    "training_set = train_datagen.flow_from_directory('train',\n",
    "                                                target_size=(64,64),\n",
    "                                                batch_size=12, #Total no. of batches\n",
    "                                                class_mode='categorical')\n",
    "\n",
    "test_set = test_datagen.flow_from_directory('test',\n",
    "                                            target_size=(64,64),\n",
    "                                            batch_size=12,\n",
    "                                            class_mode='categorical')"
   ]
  },
  {
   "cell_type": "markdown",
   "metadata": {},
   "source": [
    "# Training the model"
   ]
  },
  {
   "cell_type": "code",
   "execution_count": 30,
   "metadata": {},
   "outputs": [
    {
     "name": "stdout",
     "output_type": "stream",
     "text": [
      "Epoch 1/20\n",
      "101/101 [==============================] - 12s 113ms/step - loss: 1.6726 - accuracy: 0.2760 - val_loss: 1.3158 - val_accuracy: 0.4567\n",
      "Epoch 2/20\n",
      "101/101 [==============================] - 11s 110ms/step - loss: 1.2913 - accuracy: 0.4445 - val_loss: 0.9215 - val_accuracy: 0.6333\n",
      "Epoch 3/20\n",
      "101/101 [==============================] - 10s 102ms/step - loss: 0.9732 - accuracy: 0.5798 - val_loss: 0.7170 - val_accuracy: 0.6800\n",
      "Epoch 4/20\n",
      "101/101 [==============================] - 11s 108ms/step - loss: 0.8078 - accuracy: 0.6557 - val_loss: 0.8162 - val_accuracy: 0.6733\n",
      "Epoch 5/20\n",
      "101/101 [==============================] - 11s 110ms/step - loss: 0.7597 - accuracy: 0.7003 - val_loss: 0.5494 - val_accuracy: 0.7633\n",
      "Epoch 6/20\n",
      "101/101 [==============================] - 11s 104ms/step - loss: 0.6711 - accuracy: 0.7352 - val_loss: 0.5587 - val_accuracy: 0.7300\n",
      "Epoch 7/20\n",
      "101/101 [==============================] - 11s 114ms/step - loss: 0.6990 - accuracy: 0.7209 - val_loss: 0.4640 - val_accuracy: 0.8033\n",
      "Epoch 8/20\n",
      "101/101 [==============================] - 10s 102ms/step - loss: 0.5228 - accuracy: 0.8062 - val_loss: 0.6086 - val_accuracy: 0.7667\n",
      "Epoch 9/20\n",
      "101/101 [==============================] - 10s 103ms/step - loss: 0.5579 - accuracy: 0.7680 - val_loss: 0.4067 - val_accuracy: 0.8533\n",
      "Epoch 10/20\n",
      "101/101 [==============================] - 10s 103ms/step - loss: 0.5415 - accuracy: 0.8089 - val_loss: 0.5300 - val_accuracy: 0.7667\n",
      "Epoch 11/20\n",
      "101/101 [==============================] - 10s 102ms/step - loss: 0.5485 - accuracy: 0.7969 - val_loss: 0.4019 - val_accuracy: 0.8367\n",
      "Epoch 12/20\n",
      "101/101 [==============================] - 11s 104ms/step - loss: 0.3640 - accuracy: 0.8753 - val_loss: 0.3648 - val_accuracy: 0.8567\n",
      "Epoch 13/20\n",
      "101/101 [==============================] - 10s 102ms/step - loss: 0.4305 - accuracy: 0.8539 - val_loss: 0.4518 - val_accuracy: 0.8200\n",
      "Epoch 14/20\n",
      "101/101 [==============================] - 11s 104ms/step - loss: 0.3465 - accuracy: 0.8930 - val_loss: 0.6075 - val_accuracy: 0.8033\n",
      "Epoch 15/20\n",
      "101/101 [==============================] - 10s 103ms/step - loss: 0.3550 - accuracy: 0.8793 - val_loss: 0.4363 - val_accuracy: 0.8300\n",
      "Epoch 16/20\n",
      "101/101 [==============================] - 10s 104ms/step - loss: 0.3254 - accuracy: 0.8792 - val_loss: 0.5404 - val_accuracy: 0.8367\n",
      "Epoch 17/20\n",
      "101/101 [==============================] - 11s 111ms/step - loss: 0.2679 - accuracy: 0.9201 - val_loss: 0.3013 - val_accuracy: 0.8933\n",
      "Epoch 18/20\n",
      "101/101 [==============================] - 12s 116ms/step - loss: 0.2317 - accuracy: 0.9109 - val_loss: 0.2334 - val_accuracy: 0.9100\n",
      "Epoch 19/20\n",
      "101/101 [==============================] - 12s 122ms/step - loss: 0.2602 - accuracy: 0.9106 - val_loss: 0.4059 - val_accuracy: 0.8467\n",
      "Epoch 20/20\n",
      "101/101 [==============================] - 12s 116ms/step - loss: 0.2218 - accuracy: 0.9200 - val_loss: 0.2729 - val_accuracy: 0.8867\n"
     ]
    },
    {
     "data": {
      "text/plain": [
       "<tensorflow.python.keras.callbacks.History at 0x22695a843d0>"
      ]
     },
     "execution_count": 30,
     "metadata": {},
     "output_type": "execute_result"
    }
   ],
   "source": [
    "classifier.fit_generator(training_set,\n",
    "                         epochs = 20, # Total no. of epochs\n",
    "                         validation_data = test_set)# Total testing images\n",
    "                         "
   ]
  },
  {
   "cell_type": "markdown",
   "metadata": {},
   "source": [
    "# step8 Saving model "
   ]
  },
  {
   "cell_type": "code",
   "execution_count": 31,
   "metadata": {},
   "outputs": [],
   "source": [
    "classifier.save(\"model.h5\")"
   ]
  }
 ],
 "metadata": {
  "kernelspec": {
   "display_name": "Python 3",
   "language": "python",
   "name": "python3"
  },
  "language_info": {
   "codemirror_mode": {
    "name": "ipython",
    "version": 3
   },
   "file_extension": ".py",
   "mimetype": "text/x-python",
   "name": "python",
   "nbconvert_exporter": "python",
   "pygments_lexer": "ipython3",
   "version": "3.8.3"
  }
 },
 "nbformat": 4,
 "nbformat_minor": 4
}
